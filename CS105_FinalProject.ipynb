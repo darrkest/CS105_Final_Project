{
 "cells": [
  {
   "cell_type": "markdown",
   "id": "aebacf88",
   "metadata": {},
   "source": [
    "First, we begin by taking in the dataset and cleaning it up for text mining and sentiment analysis. We will also create a new csv file with the clean data."
   ]
  },
  {
   "cell_type": "code",
   "execution_count": 1,
   "id": "8cc77a97",
   "metadata": {},
   "outputs": [
    {
     "name": "stderr",
     "output_type": "stream",
     "text": [
      "[nltk_data] Downloading package stopwords to\n",
      "[nltk_data]     C:\\Users\\User\\AppData\\Roaming\\nltk_data...\n",
      "[nltk_data]   Package stopwords is already up-to-date!\n",
      "[nltk_data] Downloading package punkt to\n",
      "[nltk_data]     C:\\Users\\User\\AppData\\Roaming\\nltk_data...\n",
      "[nltk_data]   Package punkt is already up-to-date!\n"
     ]
    },
    {
     "data": {
      "text/plain": [
       "True"
      ]
     },
     "execution_count": 1,
     "metadata": {},
     "output_type": "execute_result"
    }
   ],
   "source": [
    "# Dataset source: https://jmcauley.ucsd.edu/data/amazon/\n",
    "import pandas as pd\n",
    "import nltk\n",
    "import matplotlib.pyplot as plt\n",
    "from nltk.corpus import stopwords\n",
    "from nltk.tokenize import word_tokenize\n",
    "from sklearn.feature_extraction.text import CountVectorizer\n",
    "from sklearn.feature_extraction.text import TfidfTransformer\n",
    "from sklearn.feature_extraction.text import TfidfVectorizer\n",
    "vectorizer = CountVectorizer()\n",
    "nltk.download('stopwords')\n",
    "nltk.download('punkt')"
   ]
  },
  {
   "cell_type": "code",
   "execution_count": 2,
   "id": "d59e9e44",
   "metadata": {},
   "outputs": [
    {
     "data": {
      "text/plain": [
       "'\\nreviewerID - ID of the reviewer, e.g. A2SUAM1J3GNN3B\\nasin - ID of the product, e.g. 0000013714\\nreviewerName - name of the reviewer\\nvote - helpful votes of the review\\nstyle - a disctionary of the product metadata, e.g., \"Format\" is \"Hardcover\"\\nreviewText - text of the review\\noverall - rating of the product\\nsummary - summary of the review\\nunixReviewTime - time of the review (unix time)\\nreviewTime - time of the review (raw)\\nimage - images that users post after they have received the product\\n'"
      ]
     },
     "execution_count": 2,
     "metadata": {},
     "output_type": "execute_result"
    }
   ],
   "source": [
    "#Json structure\n",
    "'''\n",
    "reviewerID - ID of the reviewer, e.g. A2SUAM1J3GNN3B\n",
    "asin - ID of the product, e.g. 0000013714\n",
    "reviewerName - name of the reviewer\n",
    "vote - helpful votes of the review\n",
    "style - a disctionary of the product metadata, e.g., \"Format\" is \"Hardcover\"\n",
    "reviewText - text of the review\n",
    "overall - rating of the product\n",
    "summary - summary of the review\n",
    "unixReviewTime - time of the review (unix time)\n",
    "reviewTime - time of the review (raw)\n",
    "image - images that users post after they have received the product\n",
    "'''"
   ]
  },
  {
   "cell_type": "code",
   "execution_count": 3,
   "id": "0a42670d",
   "metadata": {},
   "outputs": [
    {
     "data": {
      "text/html": [
       "<div>\n",
       "<style scoped>\n",
       "    .dataframe tbody tr th:only-of-type {\n",
       "        vertical-align: middle;\n",
       "    }\n",
       "\n",
       "    .dataframe tbody tr th {\n",
       "        vertical-align: top;\n",
       "    }\n",
       "\n",
       "    .dataframe thead th {\n",
       "        text-align: right;\n",
       "    }\n",
       "</style>\n",
       "<table border=\"1\" class=\"dataframe\">\n",
       "  <thead>\n",
       "    <tr style=\"text-align: right;\">\n",
       "      <th></th>\n",
       "      <th>overall</th>\n",
       "      <th>style</th>\n",
       "      <th>reviewText</th>\n",
       "      <th>summary</th>\n",
       "    </tr>\n",
       "  </thead>\n",
       "  <tbody>\n",
       "    <tr>\n",
       "      <th>0</th>\n",
       "      <td>5</td>\n",
       "      <td>{'Format:': ' DVD'}</td>\n",
       "      <td>watch learn ended state dying country</td>\n",
       "      <td>Excellent Viewing</td>\n",
       "    </tr>\n",
       "    <tr>\n",
       "      <th>3</th>\n",
       "      <td>5</td>\n",
       "      <td>{'Format:': ' DVD'}</td>\n",
       "      <td>great read much historical info thank</td>\n",
       "      <td>A great read. So much historical info</td>\n",
       "    </tr>\n",
       "    <tr>\n",
       "      <th>5</th>\n",
       "      <td>5</td>\n",
       "      <td>{'Format:': ' VHS Tape'}</td>\n",
       "      <td>well done video important information american...</td>\n",
       "      <td>Americans should see this.</td>\n",
       "    </tr>\n",
       "    <tr>\n",
       "      <th>6</th>\n",
       "      <td>2</td>\n",
       "      <td>{'Format:': ' VHS Tape'}</td>\n",
       "      <td>lot information piece coming faster freight tr...</td>\n",
       "      <td>Lots of Info. But Mostly a Right-Wing Agenda P...</td>\n",
       "    </tr>\n",
       "    <tr>\n",
       "      <th>7</th>\n",
       "      <td>5</td>\n",
       "      <td>{'Format:': ' DVD'}</td>\n",
       "      <td>essential message told society today people cl...</td>\n",
       "      <td>This should be esential reading for everyone i...</td>\n",
       "    </tr>\n",
       "    <tr>\n",
       "      <th>...</th>\n",
       "      <td>...</td>\n",
       "      <td>...</td>\n",
       "      <td>...</td>\n",
       "      <td>...</td>\n",
       "    </tr>\n",
       "    <tr>\n",
       "      <th>626</th>\n",
       "      <td>1</td>\n",
       "      <td>NaN</td>\n",
       "      <td>taste strictly porn cheaply produced</td>\n",
       "      <td>One Star</td>\n",
       "    </tr>\n",
       "    <tr>\n",
       "      <th>627</th>\n",
       "      <td>1</td>\n",
       "      <td>{'Format:': ' DVD'}</td>\n",
       "      <td>nothing even remotely scary werewolf overalls ...</td>\n",
       "      <td>YIKES!!</td>\n",
       "    </tr>\n",
       "    <tr>\n",
       "      <th>628</th>\n",
       "      <td>1</td>\n",
       "      <td>{'Format:': ' DVD'}</td>\n",
       "      <td>bad 3 short story stupid please waste money ti...</td>\n",
       "      <td>One Star</td>\n",
       "    </tr>\n",
       "    <tr>\n",
       "      <th>630</th>\n",
       "      <td>1</td>\n",
       "      <td>{'Format:': ' Prime Video'}</td>\n",
       "      <td>wanted show parts film high school english cla...</td>\n",
       "      <td>Do not buy this.</td>\n",
       "    </tr>\n",
       "    <tr>\n",
       "      <th>631</th>\n",
       "      <td>1</td>\n",
       "      <td>{'Format:': ' Prime Video'}</td>\n",
       "      <td>could okay ultimately pretty boring hold inter...</td>\n",
       "      <td>Not much to do about Voodoo</td>\n",
       "    </tr>\n",
       "  </tbody>\n",
       "</table>\n",
       "<p>529 rows × 4 columns</p>\n",
       "</div>"
      ],
      "text/plain": [
       "     overall                        style  \\\n",
       "0          5          {'Format:': ' DVD'}   \n",
       "3          5          {'Format:': ' DVD'}   \n",
       "5          5     {'Format:': ' VHS Tape'}   \n",
       "6          2     {'Format:': ' VHS Tape'}   \n",
       "7          5          {'Format:': ' DVD'}   \n",
       "..       ...                          ...   \n",
       "626        1                          NaN   \n",
       "627        1          {'Format:': ' DVD'}   \n",
       "628        1          {'Format:': ' DVD'}   \n",
       "630        1  {'Format:': ' Prime Video'}   \n",
       "631        1  {'Format:': ' Prime Video'}   \n",
       "\n",
       "                                            reviewText  \\\n",
       "0               watch learn ended state dying country    \n",
       "3               great read much historical info thank    \n",
       "5    well done video important information american...   \n",
       "6    lot information piece coming faster freight tr...   \n",
       "7    essential message told society today people cl...   \n",
       "..                                                 ...   \n",
       "626              taste strictly porn cheaply produced    \n",
       "627  nothing even remotely scary werewolf overalls ...   \n",
       "628  bad 3 short story stupid please waste money ti...   \n",
       "630  wanted show parts film high school english cla...   \n",
       "631  could okay ultimately pretty boring hold inter...   \n",
       "\n",
       "                                               summary  \n",
       "0                                    Excellent Viewing  \n",
       "3                A great read. So much historical info  \n",
       "5                           Americans should see this.  \n",
       "6    Lots of Info. But Mostly a Right-Wing Agenda P...  \n",
       "7    This should be esential reading for everyone i...  \n",
       "..                                                 ...  \n",
       "626                                           One Star  \n",
       "627                                            YIKES!!  \n",
       "628                                           One Star  \n",
       "630                                   Do not buy this.  \n",
       "631                        Not much to do about Voodoo  \n",
       "\n",
       "[529 rows x 4 columns]"
      ]
     },
     "execution_count": 3,
     "metadata": {},
     "output_type": "execute_result"
    }
   ],
   "source": [
    "df = pd.read_json('Movies_and_TV_5.json', lines=True)\n",
    "df = df.drop(columns=['verified','reviewTime','reviewerID','asin','vote','unixReviewTime','asin','reviewerName'])\n",
    "\n",
    "df = df[df['reviewText'].str.split().str.len().gt(5)] # Reviews must have greater than 5 words to perform sentiment analysis\n",
    "\n",
    "# Convert reviews to all lowercase\n",
    "def to_lower(text):\n",
    "    return text.lower()\n",
    "df.reviewText = df.reviewText.apply(to_lower)\n",
    "\n",
    "# Remove special characters from reviews\n",
    "def remove_special_char(text):\n",
    "    newString = ''\n",
    "    for i in text:\n",
    "        if i.isalnum():                     # If character is alphanumeric, keep. Else, add a space\n",
    "            newString = newString + i\n",
    "        else:\n",
    "            newString = newString + ' '\n",
    "    return newString\n",
    "\n",
    "df.reviewText = df.reviewText.apply(remove_special_char)\n",
    "\n",
    "# Remove stopwords: https://www.geeksforgeeks.org/removing-stop-words-nltk-python/\n",
    "def rem_stopwords(text):\n",
    "    stop_words = set(stopwords.words('english'))\n",
    "    words = word_tokenize(text)\n",
    "    newStr = \"\"\n",
    "    for w in words : \n",
    "        if w not in stop_words :\n",
    "            newStr += w + \" \"\n",
    "    #return [w for w in words if w not in stop_words]\n",
    "    return newStr\n",
    "df.reviewText = df.reviewText.apply(rem_stopwords)\n",
    "# End of data cleaning, clean data set\n",
    "df.to_csv(\"clean_data.csv\")\n",
    "df\n"
   ]
  },
  {
   "cell_type": "code",
   "execution_count": 4,
   "id": "a50ad757",
   "metadata": {},
   "outputs": [],
   "source": [
    "# Use overall to classify as positive or negative: 3+ is positive, 1 and 2 are negative\n",
    "# reviewText is full review, will use for sentiment analysis\n",
    "# Summary might be useful for EDA? Length of summary with score maybe?\n",
    "# Style also for EDA"
   ]
  },
  {
   "cell_type": "markdown",
   "id": "570a014d",
   "metadata": {},
   "source": [
    "Now, we will perform EDA to better understand our data and find interesting information about our dataset."
   ]
  },
  {
   "cell_type": "code",
   "execution_count": 5,
   "id": "488754dc",
   "metadata": {},
   "outputs": [
    {
     "data": {
      "text/plain": [
       "<Axes: >"
      ]
     },
     "execution_count": 5,
     "metadata": {},
     "output_type": "execute_result"
    },
    {
     "data": {
      "image/png": "[encoded data removed]",
      "text/plain": [
       "<Figure size 640x480 with 1 Axes>"
      ]
     },
     "metadata": {},
     "output_type": "display_data"
    }
   ],
   "source": [
    "# EDA\n",
    "pdf = df['overall'].value_counts()\n",
    "pdf = pdf.reindex(sorted(pdf.index), axis = 1)\n",
    "pdf.plot.bar()"
   ]
  },
  {
   "cell_type": "code",
   "execution_count": 68,
   "id": "3c41d80a",
   "metadata": {},
   "outputs": [
    {
     "data": {
      "text/plain": [
       "<Axes: ylabel='style'>"
      ]
     },
     "execution_count": 68,
     "metadata": {},
     "output_type": "execute_result"
    },
    {
     "data": {
      "image/png": "[encoded data removed]",
      "text/plain": [
       "<Figure size 640x480 with 1 Axes>"
      ]
     },
     "metadata": {},
     "output_type": "display_data"
    }
   ],
   "source": [
    "format_df = df['style'].value_counts()\n",
    "format_df.plot.pie()"
   ]
  },
  {
   "cell_type": "code",
   "execution_count": 6,
   "id": "3cf69bf9",
   "metadata": {},
   "outputs": [],
   "source": [
    "vectorizer.fit(df['reviewText'])\n",
    "names = vectorizer.get_feature_names_out()\n",
    "bag_of_words = vectorizer.fit(df['reviewText'])\n",
    "bag_of_words = vectorizer.transform(df['reviewText'])"
   ]
  },
  {
   "cell_type": "code",
   "execution_count": 8,
   "id": "96a7eecc",
   "metadata": {},
   "outputs": [
    {
     "name": "stdout",
     "output_type": "stream",
     "text": [
      "  (0, 1361)\t1\n",
      "  (0, 1850)\t1\n",
      "  (0, 1961)\t1\n",
      "  (0, 3296)\t1\n",
      "  (0, 5383)\t1\n",
      "  (0, 6182)\t1\n"
     ]
    }
   ],
   "source": [
    "print(bag_of_words[0])"
   ]
  },
  {
   "cell_type": "code",
   "execution_count": 9,
   "id": "5020c6bd",
   "metadata": {},
   "outputs": [
    {
     "data": {
      "text/plain": [
       "3296"
      ]
     },
     "execution_count": 9,
     "metadata": {},
     "output_type": "execute_result"
    }
   ],
   "source": [
    "vectorizer.vocabulary_.get(\"learn\")"
   ]
  },
  {
   "cell_type": "code",
   "execution_count": 10,
   "id": "39dbcc5b",
   "metadata": {},
   "outputs": [
    {
     "data": {
      "text/plain": [
       "'learn'"
      ]
     },
     "execution_count": 10,
     "metadata": {},
     "output_type": "execute_result"
    }
   ],
   "source": [
    "names[3296]"
   ]
  },
  {
   "cell_type": "code",
   "execution_count": 11,
   "id": "8c0cfc19",
   "metadata": {},
   "outputs": [],
   "source": [
    "tfidfVect = TfidfVectorizer()"
   ]
  },
  {
   "cell_type": "code",
   "execution_count": 12,
   "id": "17deefc7",
   "metadata": {},
   "outputs": [],
   "source": [
    "tfidf = tfidfVect.fit(df['reviewText'])\n",
    "tfidf = tfidfVect.transform(df['reviewText'])"
   ]
  },
  {
   "cell_type": "code",
   "execution_count": 13,
   "id": "648e7ca9",
   "metadata": {},
   "outputs": [
    {
     "name": "stdout",
     "output_type": "stream",
     "text": [
      "  (0, 6215)\t0.24551129359280968\n",
      "  (0, 6084)\t0.3055654059761589\n",
      "  (0, 3221)\t0.28833106327293073\n",
      "  (0, 2977)\t0.48010892906449415\n",
      "  (0, 2910)\t0.42357593350699946\n",
      "  (0, 1758)\t0.3157736959368348\n",
      "  (0, 325)\t0.5035722421674187\n"
     ]
    }
   ],
   "source": [
    "print(tfidf[2])"
   ]
  },
  {
   "cell_type": "code",
   "execution_count": 14,
   "id": "1448d8b3",
   "metadata": {},
   "outputs": [
    {
     "data": {
      "text/plain": [
       "2592"
      ]
     },
     "execution_count": 14,
     "metadata": {},
     "output_type": "execute_result"
    }
   ],
   "source": [
    "tfidfVect.vocabulary_.get(\"great\")"
   ]
  },
  {
   "cell_type": "code",
   "execution_count": 15,
   "id": "de69d907",
   "metadata": {},
   "outputs": [
    {
     "data": {
      "text/plain": [
       "'americans'"
      ]
     },
     "execution_count": 15,
     "metadata": {},
     "output_type": "execute_result"
    }
   ],
   "source": [
    "names[325]"
   ]
  },
  {
   "cell_type": "code",
   "execution_count": null,
   "id": "895a6dfe",
   "metadata": {},
   "outputs": [],
   "source": []
  }
 ],
 "metadata": {
  "kernelspec": {
   "display_name": "Python 3 (ipykernel)",
   "language": "python",
   "name": "python3"
  },
  "language_info": {
   "codemirror_mode": {
    "name": "ipython",
    "version": 3
   },
   "file_extension": ".py",
   "mimetype": "text/x-python",
   "name": "python",
   "nbconvert_exporter": "python",
   "pygments_lexer": "ipython3",
   "version": "3.10.9"
  }
 },
 "nbformat": 4,
 "nbformat_minor": 5
}
