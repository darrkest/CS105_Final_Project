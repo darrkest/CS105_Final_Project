{
 "cells": [
  {
   "cell_type": "markdown",
   "id": "aebacf88",
   "metadata": {},
   "source": [
    "First, we begin by taking in the dataset and cleaning it up for text mining and sentiment analysis. We will also create a new csv file with the clean data."
   ]
  },
  {
   "cell_type": "code",
   "execution_count": 1,
   "id": "0a42670d",
   "metadata": {},
   "outputs": [
    {
     "name": "stderr",
     "output_type": "stream",
     "text": [
      "[nltk_data] Downloading package stopwords to\n",
      "[nltk_data]     C:\\Users\\User\\AppData\\Roaming\\nltk_data...\n",
      "[nltk_data]   Package stopwords is already up-to-date!\n",
      "[nltk_data] Downloading package punkt to\n",
      "[nltk_data]     C:\\Users\\User\\AppData\\Roaming\\nltk_data...\n",
      "[nltk_data]   Package punkt is already up-to-date!\n"
     ]
    },
    {
     "data": {
      "text/html": [
       "<div>\n",
       "<style scoped>\n",
       "    .dataframe tbody tr th:only-of-type {\n",
       "        vertical-align: middle;\n",
       "    }\n",
       "\n",
       "    .dataframe tbody tr th {\n",
       "        vertical-align: top;\n",
       "    }\n",
       "\n",
       "    .dataframe thead th {\n",
       "        text-align: right;\n",
       "    }\n",
       "</style>\n",
       "<table border=\"1\" class=\"dataframe\">\n",
       "  <thead>\n",
       "    <tr style=\"text-align: right;\">\n",
       "      <th></th>\n",
       "      <th>overall</th>\n",
       "      <th>style</th>\n",
       "      <th>reviewText</th>\n",
       "      <th>summary</th>\n",
       "    </tr>\n",
       "  </thead>\n",
       "  <tbody>\n",
       "    <tr>\n",
       "      <th>0</th>\n",
       "      <td>5</td>\n",
       "      <td>{'Format:': ' VHS Tape'}</td>\n",
       "      <td>[sorry, purchase, years, ago, first, came, goo...</td>\n",
       "      <td>Amazing!</td>\n",
       "    </tr>\n",
       "    <tr>\n",
       "      <th>1</th>\n",
       "      <td>5</td>\n",
       "      <td>{'Format:': ' VHS Tape'}</td>\n",
       "      <td>[believe, tell, receive, blessing, watching, v...</td>\n",
       "      <td>Great Gospel VHS of the Cathedrals!</td>\n",
       "    </tr>\n",
       "    <tr>\n",
       "      <th>2</th>\n",
       "      <td>5</td>\n",
       "      <td>{'Format:': ' DVD'}</td>\n",
       "      <td>[seen, x, live, many, times, early, days, rece...</td>\n",
       "      <td>A great document of a great band</td>\n",
       "    </tr>\n",
       "    <tr>\n",
       "      <th>3</th>\n",
       "      <td>5</td>\n",
       "      <td>{'Format:': ' DVD'}</td>\n",
       "      <td>[excited, finally, live, concert, video, x, se...</td>\n",
       "      <td>YES!!  X LIVE!!</td>\n",
       "    </tr>\n",
       "    <tr>\n",
       "      <th>4</th>\n",
       "      <td>5</td>\n",
       "      <td>{'Format:': ' DVD'}</td>\n",
       "      <td>[x, one, best, punk, bands, ever, even, like, ...</td>\n",
       "      <td>X have still got it</td>\n",
       "    </tr>\n",
       "    <tr>\n",
       "      <th>...</th>\n",
       "      <td>...</td>\n",
       "      <td>...</td>\n",
       "      <td>...</td>\n",
       "      <td>...</td>\n",
       "    </tr>\n",
       "    <tr>\n",
       "      <th>3011</th>\n",
       "      <td>5</td>\n",
       "      <td>{'Format:': ' Blu-ray'}</td>\n",
       "      <td>[takes, husband, back, times, rode, bikes, ear...</td>\n",
       "      <td>GREAT FOR THE OLD SCHOOL RIDER</td>\n",
       "    </tr>\n",
       "    <tr>\n",
       "      <th>3012</th>\n",
       "      <td>5</td>\n",
       "      <td>{'Format:': ' DVD'}</td>\n",
       "      <td>[great, movie, true, classic, watch, good, sou...</td>\n",
       "      <td>Five Stars</td>\n",
       "    </tr>\n",
       "    <tr>\n",
       "      <th>3013</th>\n",
       "      <td>5</td>\n",
       "      <td>{'Format:': ' Amazon Video'}</td>\n",
       "      <td>[every, movie, buff, needs, belt]</td>\n",
       "      <td>A classic.</td>\n",
       "    </tr>\n",
       "    <tr>\n",
       "      <th>3015</th>\n",
       "      <td>5</td>\n",
       "      <td>{'Format:': ' Amazon Video'}</td>\n",
       "      <td>[great, movie, whole, family, watch, funny, sa...</td>\n",
       "      <td>great movie.</td>\n",
       "    </tr>\n",
       "    <tr>\n",
       "      <th>3016</th>\n",
       "      <td>5</td>\n",
       "      <td>{'Format:': ' DVD'}</td>\n",
       "      <td>[greetings, wonderful, movie, great, acting, c...</td>\n",
       "      <td>Such a wonderful movie with great acting</td>\n",
       "    </tr>\n",
       "  </tbody>\n",
       "</table>\n",
       "<p>2421 rows × 4 columns</p>\n",
       "</div>"
      ],
      "text/plain": [
       "      overall                         style  \\\n",
       "0           5      {'Format:': ' VHS Tape'}   \n",
       "1           5      {'Format:': ' VHS Tape'}   \n",
       "2           5           {'Format:': ' DVD'}   \n",
       "3           5           {'Format:': ' DVD'}   \n",
       "4           5           {'Format:': ' DVD'}   \n",
       "...       ...                           ...   \n",
       "3011        5       {'Format:': ' Blu-ray'}   \n",
       "3012        5           {'Format:': ' DVD'}   \n",
       "3013        5  {'Format:': ' Amazon Video'}   \n",
       "3015        5  {'Format:': ' Amazon Video'}   \n",
       "3016        5           {'Format:': ' DVD'}   \n",
       "\n",
       "                                             reviewText  \\\n",
       "0     [sorry, purchase, years, ago, first, came, goo...   \n",
       "1     [believe, tell, receive, blessing, watching, v...   \n",
       "2     [seen, x, live, many, times, early, days, rece...   \n",
       "3     [excited, finally, live, concert, video, x, se...   \n",
       "4     [x, one, best, punk, bands, ever, even, like, ...   \n",
       "...                                                 ...   \n",
       "3011  [takes, husband, back, times, rode, bikes, ear...   \n",
       "3012  [great, movie, true, classic, watch, good, sou...   \n",
       "3013                  [every, movie, buff, needs, belt]   \n",
       "3015  [great, movie, whole, family, watch, funny, sa...   \n",
       "3016  [greetings, wonderful, movie, great, acting, c...   \n",
       "\n",
       "                                       summary  \n",
       "0                                     Amazing!  \n",
       "1          Great Gospel VHS of the Cathedrals!  \n",
       "2             A great document of a great band  \n",
       "3                              YES!!  X LIVE!!  \n",
       "4                          X have still got it  \n",
       "...                                        ...  \n",
       "3011            GREAT FOR THE OLD SCHOOL RIDER  \n",
       "3012                                Five Stars  \n",
       "3013                                A classic.  \n",
       "3015                              great movie.  \n",
       "3016  Such a wonderful movie with great acting  \n",
       "\n",
       "[2421 rows x 4 columns]"
      ]
     },
     "execution_count": 1,
     "metadata": {},
     "output_type": "execute_result"
    }
   ],
   "source": [
    "# Dataset source: https://jmcauley.ucsd.edu/data/amazon/\n",
    "import pandas as pd\n",
    "import nltk\n",
    "from nltk.corpus import stopwords\n",
    "from nltk.tokenize import word_tokenize\n",
    "nltk.download('stopwords')\n",
    "nltk.download('punkt')\n",
    "\n",
    "'''\n",
    "reviewerID - ID of the reviewer, e.g. A2SUAM1J3GNN3B\n",
    "asin - ID of the product, e.g. 0000013714\n",
    "reviewerName - name of the reviewer\n",
    "vote - helpful votes of the review\n",
    "style - a disctionary of the product metadata, e.g., \"Format\" is \"Hardcover\"\n",
    "reviewText - text of the review\n",
    "overall - rating of the product\n",
    "summary - summary of the review\n",
    "unixReviewTime - time of the review (unix time)\n",
    "reviewTime - time of the review (raw)\n",
    "image - images that users post after they have received the product\n",
    "'''\n",
    "\n",
    "df = pd.read_json('Movies_and_TV_5.json', lines=True)\n",
    "df = df.drop(columns=['verified','reviewTime','reviewerID','asin','vote','unixReviewTime','image','asin','reviewerName'])\n",
    "\n",
    "df = df[df['reviewText'].str.split().str.len().gt(5)] # Reviews must have greater than 5 words to perform sentiment analysis\n",
    "\n",
    "# Convert reviews to all lowercase\n",
    "def to_lower(text):\n",
    "    return text.lower()\n",
    "df.reviewText = df.reviewText.apply(to_lower)\n",
    "\n",
    "# Remove special characters from reviews\n",
    "def remove_special_char(text):\n",
    "    newString = ''\n",
    "    for i in text:\n",
    "        if i.isalnum():                     # If character is alphanumeric, keep. Else, add a space\n",
    "            newString = newString + i\n",
    "        else:\n",
    "            newString = newString + ' '\n",
    "    return newString\n",
    "\n",
    "df.reviewText = df.reviewText.apply(remove_special_char)\n",
    "\n",
    "# Remove stopwords: https://www.geeksforgeeks.org/removing-stop-words-nltk-python/\n",
    "def rem_stopwords(text):\n",
    "    stop_words = set(stopwords.words('english'))\n",
    "    words = word_tokenize(text)\n",
    "    return [w for w in words if w not in stop_words]\n",
    "df.reviewText = df.reviewText.apply(rem_stopwords)\n",
    "df.to_csv(\"clean_data.csv\")\n",
    "df\n",
    "# Use overall to classify as positive or negative: 3+ is positive, 1 and 2 are negative\n",
    "# reviewText is full review, will use for sentiment analysis\n",
    "# Summary might be useful for EDA? Length of summary with score maybe?\n",
    "# Style also for EDA"
   ]
  },
  {
   "cell_type": "markdown",
   "id": "570a014d",
   "metadata": {},
   "source": [
    "Now, we will perform EDA to better understand our data and find interesting information about our dataset."
   ]
  },
  {
   "cell_type": "code",
   "execution_count": 7,
   "id": "3cf69bf9",
   "metadata": {},
   "outputs": [
    {
     "data": {
      "text/plain": [
       "<Axes: >"
      ]
     },
     "execution_count": 7,
     "metadata": {},
     "output_type": "execute_result"
    },
    {
     "data": {
      "image/png": "[encoded data removed]",
      "text/plain": [
       "<Figure size 640x480 with 1 Axes>"
      ]
     },
     "metadata": {},
     "output_type": "display_data"
    }
   ],
   "source": [
    "pdf = df['overall'].value_counts()\n",
    "pdf = pdf.reindex(sorted(pdf.index), axis = 1)\n",
    "pdf.plot.bar()"
   ]
  },
  {
   "cell_type": "code",
   "execution_count": 9,
   "id": "96a7eecc",
   "metadata": {},
   "outputs": [
    {
     "ename": "AttributeError",
     "evalue": "'list' object has no attribute 'value_counts'",
     "output_type": "error",
     "traceback": [
      "\u001b[1;31m---------------------------------------------------------------------------\u001b[0m",
      "\u001b[1;31mAttributeError\u001b[0m                            Traceback (most recent call last)",
      "Cell \u001b[1;32mIn[9], line 1\u001b[0m\n\u001b[1;32m----> 1\u001b[0m pdf \u001b[38;5;241m=\u001b[39m \u001b[43mdf\u001b[49m\u001b[43m[\u001b[49m\u001b[38;5;124;43m'\u001b[39;49m\u001b[38;5;124;43mreviewText\u001b[39;49m\u001b[38;5;124;43m'\u001b[39;49m\u001b[43m]\u001b[49m\u001b[43m[\u001b[49m\u001b[38;5;241;43m0\u001b[39;49m\u001b[43m]\u001b[49m\u001b[38;5;241;43m.\u001b[39;49m\u001b[43mvalue_counts\u001b[49m()[:\u001b[38;5;241m10\u001b[39m]\n\u001b[0;32m      2\u001b[0m pdf\u001b[38;5;241m.\u001b[39mplot\u001b[38;5;241m.\u001b[39mbar()\n",
      "\u001b[1;31mAttributeError\u001b[0m: 'list' object has no attribute 'value_counts'"
     ]
    }
   ],
   "source": []
  }
 ],
 "metadata": {
  "kernelspec": {
   "display_name": "Python 3 (ipykernel)",
   "language": "python",
   "name": "python3"
  },
  "language_info": {
   "codemirror_mode": {
    "name": "ipython",
    "version": 3
   },
   "file_extension": ".py",
   "mimetype": "text/x-python",
   "name": "python",
   "nbconvert_exporter": "python",
   "pygments_lexer": "ipython3",
   "version": "3.10.9"
  }
 },
 "nbformat": 4,
 "nbformat_minor": 5
}
