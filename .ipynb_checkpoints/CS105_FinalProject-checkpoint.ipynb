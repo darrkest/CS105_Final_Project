{
 "cells": [
  {
   "cell_type": "markdown",
   "id": "aebacf88",
   "metadata": {},
   "source": [
    "First, we begin by taking in the dataset and cleaning it up for text mining and sentiment analysis. We will also create a new csv file with the clean data."
   ]
  },
  {
   "cell_type": "code",
   "execution_count": 1,
   "id": "dfcfa422",
   "metadata": {},
   "outputs": [
    {
     "name": "stderr",
     "output_type": "stream",
     "text": [
      "[nltk_data] Downloading package stopwords to\n",
      "[nltk_data]     C:\\Users\\EthanS\\AppData\\Roaming\\nltk_data...\n",
      "[nltk_data]   Package stopwords is already up-to-date!\n",
      "[nltk_data] Downloading package punkt to\n",
      "[nltk_data]     C:\\Users\\EthanS\\AppData\\Roaming\\nltk_data...\n",
      "[nltk_data]   Package punkt is already up-to-date!\n"
     ]
    },
    {
     "data": {
      "text/plain": [
       "True"
      ]
     },
     "execution_count": 1,
     "metadata": {},
     "output_type": "execute_result"
    }
   ],
   "source": [
    "# Dataset source: https://jmcauley.ucsd.edu/data/amazon/\n",
    "import pandas as pd\n",
    "import nltk\n",
    "from nltk.corpus import stopwords\n",
    "from nltk.tokenize import word_tokenize\n",
    "nltk.download('stopwords')\n",
    "nltk.download('punkt')"
   ]
  },
  {
   "cell_type": "code",
   "execution_count": 2,
   "id": "27eea024",
   "metadata": {},
   "outputs": [
    {
     "data": {
      "text/plain": [
       "'\\nreviewerID - ID of the reviewer, e.g. A2SUAM1J3GNN3B\\nasin - ID of the product, e.g. 0000013714\\nreviewerName - name of the reviewer\\nvote - helpful votes of the review\\nstyle - a disctionary of the product metadata, e.g., \"Format\" is \"Hardcover\"\\nreviewText - text of the review\\noverall - rating of the product\\nsummary - summary of the review\\nunixReviewTime - time of the review (unix time)\\nreviewTime - time of the review (raw)\\nimage - images that users post after they have received the product\\n'"
      ]
     },
     "execution_count": 2,
     "metadata": {},
     "output_type": "execute_result"
    }
   ],
   "source": [
    "#Json structure\n",
    "'''\n",
    "reviewerID - ID of the reviewer, e.g. A2SUAM1J3GNN3B\n",
    "asin - ID of the product, e.g. 0000013714\n",
    "reviewerName - name of the reviewer\n",
    "vote - helpful votes of the review\n",
    "style - a disctionary of the product metadata, e.g., \"Format\" is \"Hardcover\"\n",
    "reviewText - text of the review\n",
    "overall - rating of the product\n",
    "summary - summary of the review\n",
    "unixReviewTime - time of the review (unix time)\n",
    "reviewTime - time of the review (raw)\n",
    "image - images that users post after they have received the product\n",
    "'''"
   ]
  },
  {
   "cell_type": "code",
   "execution_count": 60,
   "id": "0a42670d",
   "metadata": {},
   "outputs": [
    {
     "data": {
      "text/html": [
       "<div>\n",
       "<style scoped>\n",
       "    .dataframe tbody tr th:only-of-type {\n",
       "        vertical-align: middle;\n",
       "    }\n",
       "\n",
       "    .dataframe tbody tr th {\n",
       "        vertical-align: top;\n",
       "    }\n",
       "\n",
       "    .dataframe thead th {\n",
       "        text-align: right;\n",
       "    }\n",
       "</style>\n",
       "<table border=\"1\" class=\"dataframe\">\n",
       "  <thead>\n",
       "    <tr style=\"text-align: right;\">\n",
       "      <th></th>\n",
       "      <th>overall</th>\n",
       "      <th>style</th>\n",
       "      <th>reviewText</th>\n",
       "      <th>summary</th>\n",
       "    </tr>\n",
       "  </thead>\n",
       "  <tbody>\n",
       "    <tr>\n",
       "      <th>0</th>\n",
       "      <td>5</td>\n",
       "      <td>{'Format:': ' DVD'}</td>\n",
       "      <td>[watch, learn, ended, state, dying, country]</td>\n",
       "      <td>Excellent Viewing</td>\n",
       "    </tr>\n",
       "    <tr>\n",
       "      <th>3</th>\n",
       "      <td>5</td>\n",
       "      <td>{'Format:': ' DVD'}</td>\n",
       "      <td>[great, read, much, historical, info, thank]</td>\n",
       "      <td>A great read. So much historical info</td>\n",
       "    </tr>\n",
       "    <tr>\n",
       "      <th>5</th>\n",
       "      <td>5</td>\n",
       "      <td>{'Format:': ' VHS Tape'}</td>\n",
       "      <td>[well, done, video, important, information, am...</td>\n",
       "      <td>Americans should see this.</td>\n",
       "    </tr>\n",
       "    <tr>\n",
       "      <th>6</th>\n",
       "      <td>2</td>\n",
       "      <td>{'Format:': ' VHS Tape'}</td>\n",
       "      <td>[lot, information, piece, coming, faster, frei...</td>\n",
       "      <td>Lots of Info. But Mostly a Right-Wing Agenda P...</td>\n",
       "    </tr>\n",
       "    <tr>\n",
       "      <th>7</th>\n",
       "      <td>5</td>\n",
       "      <td>{'Format:': ' DVD'}</td>\n",
       "      <td>[essential, message, told, society, today, peo...</td>\n",
       "      <td>This should be esential reading for everyone i...</td>\n",
       "    </tr>\n",
       "    <tr>\n",
       "      <th>...</th>\n",
       "      <td>...</td>\n",
       "      <td>...</td>\n",
       "      <td>...</td>\n",
       "      <td>...</td>\n",
       "    </tr>\n",
       "    <tr>\n",
       "      <th>577</th>\n",
       "      <td>2</td>\n",
       "      <td>{'Format:': ' DVD'}</td>\n",
       "      <td>[seeing, title, expected, really, tough, actio...</td>\n",
       "      <td>BAD TEPID ACTION MOVIE</td>\n",
       "    </tr>\n",
       "    <tr>\n",
       "      <th>578</th>\n",
       "      <td>2</td>\n",
       "      <td>{'Format:': ' DVD'}</td>\n",
       "      <td>[care, movie, parts, bassinger, gere, okay, ho...</td>\n",
       "      <td>No Mercy</td>\n",
       "    </tr>\n",
       "    <tr>\n",
       "      <th>579</th>\n",
       "      <td>2</td>\n",
       "      <td>{'Format:': ' Blu-ray'}</td>\n",
       "      <td>[review, movie, five, plus, stars, blu, ray, t...</td>\n",
       "      <td>NO DIFFERENCE</td>\n",
       "    </tr>\n",
       "    <tr>\n",
       "      <th>580</th>\n",
       "      <td>2</td>\n",
       "      <td>{'Format:': ' DVD'}</td>\n",
       "      <td>[must, slow, year, movies, see, people, saw, o...</td>\n",
       "      <td>limp rider</td>\n",
       "    </tr>\n",
       "    <tr>\n",
       "      <th>581</th>\n",
       "      <td>2</td>\n",
       "      <td>{'Format:': ' Amazon Video'}</td>\n",
       "      <td>[average, way, sad]</td>\n",
       "      <td>Two Stars</td>\n",
       "    </tr>\n",
       "  </tbody>\n",
       "</table>\n",
       "<p>483 rows × 4 columns</p>\n",
       "</div>"
      ],
      "text/plain": [
       "     overall                         style  \\\n",
       "0          5           {'Format:': ' DVD'}   \n",
       "3          5           {'Format:': ' DVD'}   \n",
       "5          5      {'Format:': ' VHS Tape'}   \n",
       "6          2      {'Format:': ' VHS Tape'}   \n",
       "7          5           {'Format:': ' DVD'}   \n",
       "..       ...                           ...   \n",
       "577        2           {'Format:': ' DVD'}   \n",
       "578        2           {'Format:': ' DVD'}   \n",
       "579        2       {'Format:': ' Blu-ray'}   \n",
       "580        2           {'Format:': ' DVD'}   \n",
       "581        2  {'Format:': ' Amazon Video'}   \n",
       "\n",
       "                                            reviewText  \\\n",
       "0         [watch, learn, ended, state, dying, country]   \n",
       "3         [great, read, much, historical, info, thank]   \n",
       "5    [well, done, video, important, information, am...   \n",
       "6    [lot, information, piece, coming, faster, frei...   \n",
       "7    [essential, message, told, society, today, peo...   \n",
       "..                                                 ...   \n",
       "577  [seeing, title, expected, really, tough, actio...   \n",
       "578  [care, movie, parts, bassinger, gere, okay, ho...   \n",
       "579  [review, movie, five, plus, stars, blu, ray, t...   \n",
       "580  [must, slow, year, movies, see, people, saw, o...   \n",
       "581                                [average, way, sad]   \n",
       "\n",
       "                                               summary  \n",
       "0                                    Excellent Viewing  \n",
       "3                A great read. So much historical info  \n",
       "5                           Americans should see this.  \n",
       "6    Lots of Info. But Mostly a Right-Wing Agenda P...  \n",
       "7    This should be esential reading for everyone i...  \n",
       "..                                                 ...  \n",
       "577                             BAD TEPID ACTION MOVIE  \n",
       "578                                           No Mercy  \n",
       "579                                      NO DIFFERENCE  \n",
       "580                                         limp rider  \n",
       "581                                          Two Stars  \n",
       "\n",
       "[483 rows x 4 columns]"
      ]
     },
     "execution_count": 60,
     "metadata": {},
     "output_type": "execute_result"
    }
   ],
   "source": [
    "df = pd.read_json('Movies_and_TV_5.json', lines=True)\n",
    "df = df.drop(columns=['verified','reviewTime','reviewerID','asin','vote','unixReviewTime','asin','reviewerName'])\n",
    "\n",
    "df = df[df['reviewText'].str.split().str.len().gt(5)] # Reviews must have greater than 5 words to perform sentiment analysis\n",
    "\n",
    "# Convert reviews to all lowercase\n",
    "def to_lower(text):\n",
    "    return text.lower()\n",
    "df.reviewText = df.reviewText.apply(to_lower)\n",
    "\n",
    "# Remove special characters from reviews\n",
    "def remove_special_char(text):\n",
    "    newString = ''\n",
    "    for i in text:\n",
    "        if i.isalnum():                     # If character is alphanumeric, keep. Else, add a space\n",
    "            newString = newString + i\n",
    "        else:\n",
    "            newString = newString + ' '\n",
    "    return newString\n",
    "\n",
    "df.reviewText = df.reviewText.apply(remove_special_char)\n",
    "\n",
    "# Remove stopwords: https://www.geeksforgeeks.org/removing-stop-words-nltk-python/\n",
    "def rem_stopwords(text):\n",
    "    stop_words = set(stopwords.words('english'))\n",
    "    words = word_tokenize(text)\n",
    "    return [w for w in words if w not in stop_words]\n",
    "df.reviewText = df.reviewText.apply(rem_stopwords)\n",
    "# End of data cleaning, clean data set\n",
    "df.to_csv(\"clean_data.csv\")\n",
    "df\n"
   ]
  },
  {
   "cell_type": "code",
   "execution_count": 61,
   "id": "1f94ab2a",
   "metadata": {},
   "outputs": [],
   "source": [
    "# Use overall to classify as positive or negative: 3+ is positive, 1 and 2 are negative\n",
    "# reviewText is full review, will use for sentiment analysis\n",
    "# Summary might be useful for EDA? Length of summary with score maybe?\n",
    "# Style also for EDA"
   ]
  },
  {
   "cell_type": "code",
   "execution_count": 62,
   "id": "8669fd31",
   "metadata": {},
   "outputs": [
    {
     "data": {
      "text/plain": [
       "<Axes: >"
      ]
     },
     "execution_count": 62,
     "metadata": {},
     "output_type": "execute_result"
    },
    {
     "data": {
      "image/png": "[encoded data removed]",
      "text/plain": [
       "<Figure size 640x480 with 1 Axes>"
      ]
     },
     "metadata": {},
     "output_type": "display_data"
    }
   ],
   "source": [
    "# EDA\n",
    "pdf = df['overall'].value_counts()\n",
    "pdf = pdf.reindex(sorted(pdf.index), axis = 1)\n",
    "pdf.plot.bar()"
   ]
  },
  {
   "cell_type": "markdown",
   "id": "570a014d",
   "metadata": {},
   "source": [
    "Now, we will perform EDA to better understand our data and find interesting information about our dataset."
   ]
  },
  {
   "cell_type": "code",
   "execution_count": null,
   "id": "3cf69bf9",
   "metadata": {},
   "outputs": [],
   "source": []
  },
  {
   "cell_type": "code",
   "execution_count": null,
   "id": "96a7eecc",
   "metadata": {},
   "outputs": [],
   "source": []
  },
  {
   "cell_type": "code",
   "execution_count": null,
   "id": "ec8b3450",
   "metadata": {},
   "outputs": [],
   "source": []
  }
 ],
 "metadata": {
  "kernelspec": {
   "display_name": "Python 3 (ipykernel)",
   "language": "python",
   "name": "python3"
  },
  "language_info": {
   "codemirror_mode": {
    "name": "ipython",
    "version": 3
   },
   "file_extension": ".py",
   "mimetype": "text/x-python",
   "name": "python",
   "nbconvert_exporter": "python",
   "pygments_lexer": "ipython3",
   "version": "3.10.9"
  }
 },
 "nbformat": 4,
 "nbformat_minor": 5
}
